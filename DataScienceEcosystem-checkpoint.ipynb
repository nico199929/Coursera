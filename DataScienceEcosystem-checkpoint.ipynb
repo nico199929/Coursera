{
 "cells": [
  {
   "cell_type": "markdown",
   "id": "d3961ced",
   "metadata": {},
   "source": [
    "# Data Science Tools and Ecosystem "
   ]
  },
  {
   "cell_type": "markdown",
   "id": "28748cc5",
   "metadata": {},
   "source": [
    "In this notebook, Data Science Tools and Ecosystem are summarized."
   ]
  },
  {
   "cell_type": "markdown",
   "id": "9cd4991b",
   "metadata": {},
   "source": [
    "Some of the popular languages that Data Scientists use are:\n",
    "    1. Python\n",
    "    2. R-Studio\n",
    "    3. SQL"
   ]
  },
  {
   "cell_type": "markdown",
   "id": "aa7b2aa6",
   "metadata": {},
   "source": [
    "Some of the commonly used libraries used by Data Scientists include:\n",
    "    1. SciPy\n",
    "    2. Matplotlib\n",
    "    3. Pandas"
   ]
  },
  {
   "cell_type": "markdown",
   "id": "2ebe56d8",
   "metadata": {},
   "source": [
    "| Data Science Tools | \n",
    "|--------------------|\n",
    "|    Jupyter Notebook|\n",
    "|   RStudio          |\n",
    "|   Apache Zeppelin  |"
   ]
  },
  {
   "cell_type": "markdown",
   "id": "7c41b226",
   "metadata": {},
   "source": [
    "### Below are a few examples of evaluating arithmetic expressions in Python. "
   ]
  },
  {
   "cell_type": "code",
   "execution_count": 5,
   "id": "e60e6a7e",
   "metadata": {},
   "outputs": [
    {
     "data": {
      "text/plain": [
       "17"
      ]
     },
     "execution_count": 5,
     "metadata": {},
     "output_type": "execute_result"
    }
   ],
   "source": [
    "result = (3 * 4) + 5\n",
    "result"
   ]
  },
  {
   "cell_type": "code",
   "execution_count": 6,
   "id": "d2f95856",
   "metadata": {},
   "outputs": [
    {
     "data": {
      "text/plain": [
       "3.3333333333333335"
      ]
     },
     "execution_count": 6,
     "metadata": {},
     "output_type": "execute_result"
    }
   ],
   "source": [
    "minutes = 200\n",
    "hours = minutes / 60\n",
    "hours"
   ]
  },
  {
   "cell_type": "markdown",
   "id": "dcb7eda9",
   "metadata": {},
   "source": [
    "**Objectives:**\n",
    "\n",
    "- List popular languages for Data Science.\n",
    "- Introduce Jupyter Notebook and its features.\n",
    "- Create and format Markdown cells.\n",
    "- Create ordered and unordered lists in Markdown.\n",
    "- Use Markdown syntax to create tables.\n",
    "- Evaluate arithmetic expressions in Python."
   ]
  },
  {
   "cell_type": "markdown",
   "id": "1cd72418",
   "metadata": {},
   "source": [
    "## Author\n",
    "Nico"
   ]
  },
  {
   "cell_type": "code",
   "execution_count": null,
   "id": "fb82f045",
   "metadata": {},
   "outputs": [],
   "source": []
  }
 ],
 "metadata": {
  "kernelspec": {
   "display_name": "Python 3 (ipykernel)",
   "language": "python",
   "name": "python3"
  },
  "language_info": {
   "codemirror_mode": {
    "name": "ipython",
    "version": 3
   },
   "file_extension": ".py",
   "mimetype": "text/x-python",
   "name": "python",
   "nbconvert_exporter": "python",
   "pygments_lexer": "ipython3",
   "version": "3.9.7"
  }
 },
 "nbformat": 4,
 "nbformat_minor": 5
}
